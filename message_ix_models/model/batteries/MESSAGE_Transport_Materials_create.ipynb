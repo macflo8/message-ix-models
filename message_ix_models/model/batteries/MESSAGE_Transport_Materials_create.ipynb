{
 "cells": [
  {
   "cell_type": "code",
   "execution_count": 1,
   "id": "792c5175",
   "metadata": {},
   "outputs": [
    {
     "data": {
      "application/javascript": [
       "if (typeof IPython !== 'undefined') { IPython.OutputArea.prototype._should_scroll = function(lines){ return false; }}"
      ],
      "text/plain": [
       "<IPython.core.display.Javascript object>"
      ]
     },
     "metadata": {},
     "output_type": "display_data"
    }
   ],
   "source": [
    "import pandas as pd\n",
    "import numpy as np\n",
    "from collections import defaultdict\n",
    "from message_ix_models.util import broadcast, same_node\n",
    "import message_ix\n",
    "from ixmp.utils import maybe_check_out\n",
    "\n",
    "from message_ix.utils import make_df\n",
    "import ixmp\n",
    "import message_data\n",
    "\n",
    "path = \"C://Users//Bruker//Desktop//message_ix//message_ix//MESSAGEix-GLOBIOM_1.1-MT_vehicles_baseline_2023-06-12.xlsx\"\n",
    "\n",
    "\n",
    "#scenario = message_ix.Scenario(mp, model = \"StandAlone_Graphite\",scenario = \"baseline\", version = 'new')\n"
   ]
  },
  {
   "cell_type": "code",
   "execution_count": 2,
   "id": "5e04fc45",
   "metadata": {},
   "outputs": [],
   "source": [
    "mp = ixmp.Platform()"
   ]
  },
  {
   "cell_type": "markdown",
   "id": "e863935d",
   "metadata": {},
   "source": [
    "filename = 'MESSAGEix-GLOBIOM_1.1-MT_vehicles_baseline_2023-06-12.xlsx'"
   ]
  },
  {
   "cell_type": "code",
   "execution_count": 3,
   "id": "4f2fa9e3",
   "metadata": {},
   "outputs": [
    {
     "data": {
      "text/html": [
       "<div>\n",
       "<style scoped>\n",
       "    .dataframe tbody tr th:only-of-type {\n",
       "        vertical-align: middle;\n",
       "    }\n",
       "\n",
       "    .dataframe tbody tr th {\n",
       "        vertical-align: top;\n",
       "    }\n",
       "\n",
       "    .dataframe thead th {\n",
       "        text-align: right;\n",
       "    }\n",
       "</style>\n",
       "<table border=\"1\" class=\"dataframe\">\n",
       "  <thead>\n",
       "    <tr style=\"text-align: right;\">\n",
       "      <th></th>\n",
       "      <th>model</th>\n",
       "      <th>scenario</th>\n",
       "      <th>scheme</th>\n",
       "      <th>is_default</th>\n",
       "      <th>is_locked</th>\n",
       "      <th>cre_user</th>\n",
       "      <th>cre_date</th>\n",
       "      <th>upd_user</th>\n",
       "      <th>upd_date</th>\n",
       "      <th>lock_user</th>\n",
       "      <th>lock_date</th>\n",
       "      <th>annotation</th>\n",
       "      <th>version</th>\n",
       "    </tr>\n",
       "  </thead>\n",
       "  <tbody>\n",
       "  </tbody>\n",
       "</table>\n",
       "</div>"
      ],
      "text/plain": [
       "Empty DataFrame\n",
       "Columns: [model, scenario, scheme, is_default, is_locked, cre_user, cre_date, upd_user, upd_date, lock_user, lock_date, annotation, version]\n",
       "Index: []"
      ]
     },
     "execution_count": 3,
     "metadata": {},
     "output_type": "execute_result"
    }
   ],
   "source": [
    "mp.scenario_list()"
   ]
  },
  {
   "cell_type": "code",
   "execution_count": 4,
   "id": "63cf1ea0",
   "metadata": {},
   "outputs": [],
   "source": [
    "scen = 'Baseline'\n",
    "mod = 'MaterialsTransport_Global'"
   ]
  },
  {
   "cell_type": "code",
   "execution_count": 5,
   "id": "26ce776c",
   "metadata": {},
   "outputs": [],
   "source": [
    "baseline = message_ix.Scenario(mp, model = mod, scenario = scen, version = 'new')"
   ]
  },
  {
   "cell_type": "code",
   "execution_count": 6,
   "id": "0296bd15",
   "metadata": {},
   "outputs": [
    {
     "name": "stderr",
     "output_type": "stream",
     "text": [
      "Existing set 'map_tec_storage' has index names(s)  ['node', 'technology', 'mode', 'storage_tec', 'storage_mode', 'level', 'commodity', 'lvl_temporal'] != ['node', 'technology', 'storage_tec', 'level', 'commodity'] in MESSAGEix-GLOBIOM_1.1-MT_vehicles_baseline_2023-06-12.xlsx\n"
     ]
    }
   ],
   "source": [
    "baseline.read_excel(path, init_items = True, add_units = True)"
   ]
  },
  {
   "cell_type": "code",
   "execution_count": 7,
   "id": "f5182c58",
   "metadata": {},
   "outputs": [],
   "source": [
    "baseline.solve()"
   ]
  },
  {
   "cell_type": "code",
   "execution_count": 8,
   "id": "7f9c32c3",
   "metadata": {},
   "outputs": [],
   "source": [
    "baseline.set_as_default()"
   ]
  },
  {
   "cell_type": "code",
   "execution_count": 9,
   "id": "dea5a858",
   "metadata": {},
   "outputs": [
    {
     "data": {
      "text/html": [
       "<div>\n",
       "<style scoped>\n",
       "    .dataframe tbody tr th:only-of-type {\n",
       "        vertical-align: middle;\n",
       "    }\n",
       "\n",
       "    .dataframe tbody tr th {\n",
       "        vertical-align: top;\n",
       "    }\n",
       "\n",
       "    .dataframe thead th {\n",
       "        text-align: right;\n",
       "    }\n",
       "</style>\n",
       "<table border=\"1\" class=\"dataframe\">\n",
       "  <thead>\n",
       "    <tr style=\"text-align: right;\">\n",
       "      <th></th>\n",
       "      <th>model</th>\n",
       "      <th>scenario</th>\n",
       "      <th>scheme</th>\n",
       "      <th>is_default</th>\n",
       "      <th>is_locked</th>\n",
       "      <th>cre_user</th>\n",
       "      <th>cre_date</th>\n",
       "      <th>upd_user</th>\n",
       "      <th>upd_date</th>\n",
       "      <th>lock_user</th>\n",
       "      <th>lock_date</th>\n",
       "      <th>annotation</th>\n",
       "      <th>version</th>\n",
       "    </tr>\n",
       "  </thead>\n",
       "  <tbody>\n",
       "    <tr>\n",
       "      <th>0</th>\n",
       "      <td>MaterialsTransport_Global</td>\n",
       "      <td>Baseline</td>\n",
       "      <td>MESSAGE</td>\n",
       "      <td>1</td>\n",
       "      <td>0</td>\n",
       "      <td>Bruker</td>\n",
       "      <td>2023-10-19 14:44:24.387000</td>\n",
       "      <td>Bruker</td>\n",
       "      <td>2023-10-19 15:07:16.698000</td>\n",
       "      <td>None</td>\n",
       "      <td>None</td>\n",
       "      <td>Import from C:\\Users\\Bruker\\Desktop\\message_ix...</td>\n",
       "      <td>1</td>\n",
       "    </tr>\n",
       "  </tbody>\n",
       "</table>\n",
       "</div>"
      ],
      "text/plain": [
       "                       model  scenario   scheme  is_default  is_locked  \\\n",
       "0  MaterialsTransport_Global  Baseline  MESSAGE           1          0   \n",
       "\n",
       "  cre_user                    cre_date upd_user                    upd_date  \\\n",
       "0   Bruker  2023-10-19 14:44:24.387000   Bruker  2023-10-19 15:07:16.698000   \n",
       "\n",
       "  lock_user lock_date                                         annotation  \\\n",
       "0      None      None  Import from C:\\Users\\Bruker\\Desktop\\message_ix...   \n",
       "\n",
       "   version  \n",
       "0        1  "
      ]
     },
     "execution_count": 9,
     "metadata": {},
     "output_type": "execute_result"
    }
   ],
   "source": [
    "mp.scenario_list()"
   ]
  },
  {
   "cell_type": "code",
   "execution_count": 10,
   "id": "e3d7d6ad",
   "metadata": {},
   "outputs": [],
   "source": [
    "mp.close_db()"
   ]
  },
  {
   "cell_type": "code",
   "execution_count": null,
   "id": "e4ecfbb8",
   "metadata": {},
   "outputs": [],
   "source": []
  }
 ],
 "metadata": {
  "kernelspec": {
   "display_name": "Python 3 (ipykernel)",
   "language": "python",
   "name": "python3"
  },
  "language_info": {
   "codemirror_mode": {
    "name": "ipython",
    "version": 3
   },
   "file_extension": ".py",
   "mimetype": "text/x-python",
   "name": "python",
   "nbconvert_exporter": "python",
   "pygments_lexer": "ipython3",
   "version": "3.9.18"
  },
  "vscode": {
   "interpreter": {
    "hash": "b9cf8a5ca092ffc2c00b3808ce78ce27f79e5a4223c553ce419faeccafa86812"
   }
  }
 },
 "nbformat": 4,
 "nbformat_minor": 5
}
